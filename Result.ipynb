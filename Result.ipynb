{
 "cells": [
  {
   "cell_type": "code",
   "execution_count": null,
   "metadata": {},
   "outputs": [],
   "source": [
    "import matplotlib.pyplot as plt\n",
    "import numpy as np\n",
    "import os\n",
    "\n",
    "# Kiểm tra sự tồn tại của file 'total_rewards.npy'\n",
    "if os.path.exists(\"total_rewards.npy\"):\n",
    "    total_rewards = np.load(\"total_rewards.npy\")  # Load từ file nếu file tồn tại\n",
    "else:\n",
    "    print(\"File 'total_rewards.npy' không tồn tại. Khởi tạo danh sách rỗng.\")\n",
    "    total_rewards = []  # Khởi tạo danh sách rỗng nếu không có file\n",
    "\n",
    "# Nếu total_rewards không rỗng, tiến hành vẽ biểu đồ\n",
    "if total_rewards:\n",
    "    # Vẽ biểu đồ đường\n",
    "    plt.plot(total_rewards)\n",
    "    plt.xlabel('Episode')\n",
    "    plt.ylabel('Total Reward')\n",
    "    plt.title('Performance Over Episodes')\n",
    "    plt.show()\n",
    "\n",
    "    # Thống kê\n",
    "    print(\"Số episode thành công:\", sum(reward > 0 for reward in total_rewards))\n",
    "    print(\"Trung bình điểm mỗi episode:\", np.mean(total_rewards))\n",
    "else:\n",
    "    print(\"Không có dữ liệu để hiển thị.\")"
   ]
  }
 ],
 "metadata": {
  "language_info": {
   "name": "python"
  }
 },
 "nbformat": 4,
 "nbformat_minor": 2
}
